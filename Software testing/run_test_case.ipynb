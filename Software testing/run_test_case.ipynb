{
 "cells": [
  {
   "cell_type": "code",
   "execution_count": 22,
   "id": "ce44a237-0060-49dc-8fac-bd02d420bc74",
   "metadata": {
    "tags": []
   },
   "outputs": [
    {
     "name": "stdout",
     "output_type": "stream",
     "text": [
      "Test case executed. Check 'test_result_log.txt' for details.\n"
     ]
    }
   ],
   "source": [
    "# run_test_case.py\n",
    "def read_test_case(file_path):\n",
    "    with open(file_path, 'r') as file:\n",
    "        return file.read().strip()\n",
    "\n",
    "def execute_test_case(test_case):\n",
    "    if not test_case.strip():\n",
    "        return f\"Test case: [EMPTY]\\nError: No input provided.\\nStatus: FAIL\"\n",
    "    try:\n",
    "        result = eval(test_case)\n",
    "        return f\"Test case: {test_case}\\nResult: {result}\\nStatus: PASS\"\n",
    "    except Exception as e:\n",
    "        return f\"Test case: {test_case}\\nError: {str(e)}\\nStatus: FAIL\"\n",
    "\n",
    "\n",
    "def log_result(log_path, log_message):\n",
    "    with open(log_path, 'a') as file:\n",
    "        file.write(log_message + \"\\n\" + \"-\"*40 + \"\\n\")\n",
    "\n",
    "if __name__ == \"__main__\":\n",
    "    input_file = 'test_case.txt'\n",
    "    output_file = 'test_result_log.txt'\n",
    "\n",
    "    test_case = read_test_case(input_file)\n",
    "    result_log = execute_test_case(test_case)\n",
    "    log_result(output_file, result_log)\n",
    "\n",
    "    print(\"Test case executed. Check 'test_result_log.txt' for details.\")\n"
   ]
  },
  {
   "cell_type": "code",
   "execution_count": null,
   "id": "8dac68a8-d109-477a-b4b1-2f7de6ac2ab6",
   "metadata": {},
   "outputs": [],
   "source": []
  },
  {
   "cell_type": "code",
   "execution_count": null,
   "id": "558394c1-3c5f-46be-8607-82875999acdc",
   "metadata": {},
   "outputs": [],
   "source": []
  }
 ],
 "metadata": {
  "kernelspec": {
   "display_name": "Python 3 (ipykernel)",
   "language": "python",
   "name": "python3"
  },
  "language_info": {
   "codemirror_mode": {
    "name": "ipython",
    "version": 3
   },
   "file_extension": ".py",
   "mimetype": "text/x-python",
   "name": "python",
   "nbconvert_exporter": "python",
   "pygments_lexer": "ipython3",
   "version": "3.11.7"
  }
 },
 "nbformat": 4,
 "nbformat_minor": 5
}
