{
 "cells": [
  {
   "cell_type": "code",
   "execution_count": 1,
   "id": "a449a383-16f6-4453-9dcc-661fba66ad53",
   "metadata": {
    "tags": []
   },
   "outputs": [
    {
     "name": "stdout",
     "output_type": "stream",
     "text": [
      "[+] Defect 'D001' added successfully.\n",
      "\n",
      "[+] Defect 'D002' added successfully.\n",
      "\n",
      "[✓] Defect 'D001' status updated to 'In Progress'.\n",
      "\n",
      "[✓] Defect 'D002' status updated to 'Resolved'.\n",
      "\n",
      "📄 Defect Report:\n",
      "==================================================\n",
      "ID: D001\n",
      "Title: Login Button Not Working\n",
      "Description: Clicking login does nothing.\n",
      "Severity: High\n",
      "Status: In Progress\n",
      "--------------------------------------------------\n",
      "ID: D002\n",
      "Title: UI Misalignment\n",
      "Description: Logo overlaps with header text on mobile.\n",
      "Severity: Medium\n",
      "Status: Resolved\n",
      "--------------------------------------------------\n"
     ]
    }
   ],
   "source": [
    "# defect_tracker.py\n",
    "\n",
    "defects = {}\n",
    "\n",
    "def add_defect(defect_id, title, description, severity, status=\"Open\"):\n",
    "    defects[defect_id] = {\n",
    "        \"Title\": title,\n",
    "        \"Description\": description,\n",
    "        \"Severity\": severity,\n",
    "        \"Status\": status\n",
    "    }\n",
    "    print(f\"[+] Defect '{defect_id}' added successfully.\\n\")\n",
    "\n",
    "def update_defect_status(defect_id, new_status):\n",
    "    if defect_id in defects:\n",
    "        defects[defect_id][\"Status\"] = new_status\n",
    "        print(f\"[✓] Defect '{defect_id}' status updated to '{new_status}'.\\n\")\n",
    "    else:\n",
    "        print(f\"[!] Defect ID '{defect_id}' not found.\\n\")\n",
    "\n",
    "def generate_report():\n",
    "    print(\"📄 Defect Report:\")\n",
    "    print(\"=\"*50)\n",
    "    for defect_id, details in defects.items():\n",
    "        print(f\"ID: {defect_id}\")\n",
    "        for key, value in details.items():\n",
    "            print(f\"{key}: {value}\")\n",
    "        print(\"-\"*50)\n",
    "\n",
    "# Demonstration\n",
    "if __name__ == \"__main__\":\n",
    "    # Add sample defects\n",
    "    add_defect(\"D001\", \"Login Button Not Working\", \"Clicking login does nothing.\", \"High\")\n",
    "    add_defect(\"D002\", \"UI Misalignment\", \"Logo overlaps with header text on mobile.\", \"Medium\")\n",
    "\n",
    "    # Update status of a defect\n",
    "    update_defect_status(\"D001\", \"In Progress\")\n",
    "    update_defect_status(\"D002\", \"Resolved\")\n",
    "\n",
    "    # Generate defect report\n",
    "    generate_report()\n"
   ]
  },
  {
   "cell_type": "code",
   "execution_count": null,
   "id": "ddfc03a0-8c4d-4463-ba77-82ef30285eb2",
   "metadata": {},
   "outputs": [],
   "source": []
  }
 ],
 "metadata": {
  "kernelspec": {
   "display_name": "Python 3 (ipykernel)",
   "language": "python",
   "name": "python3"
  },
  "language_info": {
   "codemirror_mode": {
    "name": "ipython",
    "version": 3
   },
   "file_extension": ".py",
   "mimetype": "text/x-python",
   "name": "python",
   "nbconvert_exporter": "python",
   "pygments_lexer": "ipython3",
   "version": "3.11.7"
  }
 },
 "nbformat": 4,
 "nbformat_minor": 5
}
