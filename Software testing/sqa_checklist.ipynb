{
 "cells": [
  {
   "cell_type": "code",
   "execution_count": 10,
   "id": "916744f7-26c6-43e3-953e-4b90c7ad7364",
   "metadata": {
    "tags": []
   },
   "outputs": [
    {
     "name": "stdout",
     "output_type": "stream",
     "text": [
      "🔍 Software Quality Assurance Checklist Report\n",
      "============================================================\n",
      "[✓] All functions have docstrings.\n",
      "[✓] All function names follow snake_case.\n",
      "[!] Indentation issues on lines: [2, 3, 4, 5, 6, 7, 8, 9, 10, 11, 12, 13, 14, 15, 16, 17, 18, 19, 22, 23, 24, 25, 26, 27, 28, 29, 30, 31, 32]\n"
     ]
    }
   ],
   "source": [
    "import ast\n",
    "import re\n",
    "\n",
    "def check_docstrings(tree):\n",
    "    missing = []\n",
    "    for node in ast.walk(tree):\n",
    "        if isinstance(node, ast.FunctionDef):\n",
    "            if ast.get_docstring(node) is None:\n",
    "                missing.append(node.name)\n",
    "    return missing\n",
    "\n",
    "def check_function_naming(tree):\n",
    "    incorrect = []\n",
    "    snake_case_pattern = re.compile(r'^[a-z_][a-z0-9_]*$')\n",
    "    for node in ast.walk(tree):\n",
    "        if isinstance(node, ast.FunctionDef):\n",
    "            if not snake_case_pattern.match(node.name):\n",
    "                incorrect.append(node.name)\n",
    "    return incorrect\n",
    "\n",
    "def check_indentation(file_path):\n",
    "    incorrect_lines = []\n",
    "    with open(file_path, 'r') as file:\n",
    "        lines = file.readlines()\n",
    "        for index, line in enumerate(lines, start=1):\n",
    "            stripped = line.lstrip()\n",
    "            if stripped and not stripped.startswith('#'):\n",
    "                indent = len(line) - len(stripped)\n",
    "                if indent % 4 != 0:\n",
    "                    incorrect_lines.append(index)\n",
    "    return incorrect_lines\n",
    "\n",
    "def run_quality_check(file_path):\n",
    "    with open(file_path, 'r') as file:\n",
    "        source_code = file.read()\n",
    "\n",
    "    tree = ast.parse(source_code)\n",
    "\n",
    "    print(\"🔍 Software Quality Assurance Checklist Report\")\n",
    "    print(\"=\" * 60)\n",
    "\n",
    "    missing_docs = check_docstrings(tree)\n",
    "    if missing_docs:\n",
    "        print(f\"[!] Functions missing docstrings: {missing_docs}\")\n",
    "    else:\n",
    "        print(\"[✓] All functions have docstrings.\")\n",
    "\n",
    "    bad_names = check_function_naming(tree)\n",
    "    if bad_names:\n",
    "        print(f\"[!] Functions with incorrect names: {bad_names}\")\n",
    "    else:\n",
    "        print(\"[✓] All function names follow snake_case.\")\n",
    "\n",
    "    indent_issues = check_indentation(file_path)\n",
    "    if indent_issues:\n",
    "        print(f\"[!] Indentation issues on lines: {indent_issues}\")\n",
    "    else:\n",
    "        print(\"[✓] Indentation is consistent (4 spaces).\")\n",
    "\n",
    "# Example usage\n",
    "if __name__ == \"__main__\":\n",
    "    file_to_check = \"sample_code.ipynb\"  # Change to your actual file\n",
    "    run_quality_check(file_to_check)\n"
   ]
  },
  {
   "cell_type": "code",
   "execution_count": null,
   "id": "cb106793-c6cd-4e89-97d8-ae35bce8bebe",
   "metadata": {},
   "outputs": [],
   "source": []
  },
  {
   "cell_type": "code",
   "execution_count": null,
   "id": "de805a46-807c-434c-95bf-29ca4d14af24",
   "metadata": {},
   "outputs": [],
   "source": []
  }
 ],
 "metadata": {
  "kernelspec": {
   "display_name": "Python 3 (ipykernel)",
   "language": "python",
   "name": "python3"
  },
  "language_info": {
   "codemirror_mode": {
    "name": "ipython",
    "version": 3
   },
   "file_extension": ".py",
   "mimetype": "text/x-python",
   "name": "python",
   "nbconvert_exporter": "python",
   "pygments_lexer": "ipython3",
   "version": "3.11.7"
  }
 },
 "nbformat": 4,
 "nbformat_minor": 5
}
